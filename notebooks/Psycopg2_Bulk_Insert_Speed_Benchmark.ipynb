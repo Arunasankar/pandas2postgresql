{
 "cells": [
  {
   "cell_type": "markdown",
   "metadata": {},
   "source": [
    "# From Pandas to PostgreSQL: Bulk Insert"
   ]
  },
  {
   "cell_type": "markdown",
   "metadata": {},
   "source": [
    "*By Naysan Saran, May 2020.*"
   ]
  },
  {
   "cell_type": "markdown",
   "metadata": {},
   "source": [
    "## 1 - Introduction"
   ]
  },
  {
   "cell_type": "markdown",
   "metadata": {},
   "source": [
    "In this tutorial we will go through all the steps required to \n",
    "\n",
    "- turn a csv into a pandas dataframe\n",
    "- create the corresponding PostgreSQL database and table\n",
    "- insert the pandas dataframe in the PostgreSQL table using different insert techniques\n",
    "- benchmark them to see which one is faster\n",
    "\n",
    "The data for this tutorial is freely available on https://datahub.io/core/global-temp, but you will also find it in the data/ directory of this github repository. What is nice about this dataframe is that it contains string, date and float columns, so it should be a good test dataframe for the benchmarking."
   ]
  },
  {
   "cell_type": "markdown",
   "metadata": {},
   "source": [
    "## 2 - From csv file to pandas dataframe"
   ]
  },
  {
   "cell_type": "code",
   "execution_count": 195,
   "metadata": {},
   "outputs": [
    {
     "name": "stdout",
     "output_type": "stream",
     "text": [
      "Total number of rows = 3288\n"
     ]
    },
    {
     "data": {
      "text/html": [
       "<div>\n",
       "<style scoped>\n",
       "    .dataframe tbody tr th:only-of-type {\n",
       "        vertical-align: middle;\n",
       "    }\n",
       "\n",
       "    .dataframe tbody tr th {\n",
       "        vertical-align: top;\n",
       "    }\n",
       "\n",
       "    .dataframe thead th {\n",
       "        text-align: right;\n",
       "    }\n",
       "</style>\n",
       "<table border=\"1\" class=\"dataframe\">\n",
       "  <thead>\n",
       "    <tr style=\"text-align: right;\">\n",
       "      <th></th>\n",
       "      <th>Source</th>\n",
       "      <th>Date</th>\n",
       "      <th>Mean</th>\n",
       "    </tr>\n",
       "  </thead>\n",
       "  <tbody>\n",
       "    <tr>\n",
       "      <th>0</th>\n",
       "      <td>GCAG</td>\n",
       "      <td>2016-12-06</td>\n",
       "      <td>0.7895</td>\n",
       "    </tr>\n",
       "    <tr>\n",
       "      <th>1</th>\n",
       "      <td>GISTEMP</td>\n",
       "      <td>2016-12-06</td>\n",
       "      <td>0.8100</td>\n",
       "    </tr>\n",
       "    <tr>\n",
       "      <th>2</th>\n",
       "      <td>GCAG</td>\n",
       "      <td>2016-11-06</td>\n",
       "      <td>0.7504</td>\n",
       "    </tr>\n",
       "  </tbody>\n",
       "</table>\n",
       "</div>"
      ],
      "text/plain": [
       "    Source        Date    Mean\n",
       "0     GCAG  2016-12-06  0.7895\n",
       "1  GISTEMP  2016-12-06  0.8100\n",
       "2     GCAG  2016-11-06  0.7504"
      ]
     },
     "execution_count": 195,
     "metadata": {},
     "output_type": "execute_result"
    }
   ],
   "source": [
    "import pandas as pd\n",
    "\n",
    "csv_file = \"../data/global-temp-monthly.csv\"\n",
    "df = pd.read_csv(csv_file)\n",
    "print(\"Total number of rows = %s\" % len(df.index))\n",
    "df.head(3)"
   ]
  },
  {
   "cell_type": "code",
   "execution_count": 196,
   "metadata": {},
   "outputs": [
    {
     "data": {
      "text/html": [
       "<div>\n",
       "<style scoped>\n",
       "    .dataframe tbody tr th:only-of-type {\n",
       "        vertical-align: middle;\n",
       "    }\n",
       "\n",
       "    .dataframe tbody tr th {\n",
       "        vertical-align: top;\n",
       "    }\n",
       "\n",
       "    .dataframe thead th {\n",
       "        text-align: right;\n",
       "    }\n",
       "</style>\n",
       "<table border=\"1\" class=\"dataframe\">\n",
       "  <thead>\n",
       "    <tr style=\"text-align: right;\">\n",
       "      <th></th>\n",
       "      <th>source</th>\n",
       "      <th>datetime</th>\n",
       "      <th>mean_temp</th>\n",
       "    </tr>\n",
       "  </thead>\n",
       "  <tbody>\n",
       "    <tr>\n",
       "      <th>0</th>\n",
       "      <td>GCAG</td>\n",
       "      <td>2016-12-06</td>\n",
       "      <td>0.7895</td>\n",
       "    </tr>\n",
       "    <tr>\n",
       "      <th>1</th>\n",
       "      <td>GISTEMP</td>\n",
       "      <td>2016-12-06</td>\n",
       "      <td>0.8100</td>\n",
       "    </tr>\n",
       "    <tr>\n",
       "      <th>2</th>\n",
       "      <td>GCAG</td>\n",
       "      <td>2016-11-06</td>\n",
       "      <td>0.7504</td>\n",
       "    </tr>\n",
       "  </tbody>\n",
       "</table>\n",
       "</div>"
      ],
      "text/plain": [
       "    source    datetime  mean_temp\n",
       "0     GCAG  2016-12-06     0.7895\n",
       "1  GISTEMP  2016-12-06     0.8100\n",
       "2     GCAG  2016-11-06     0.7504"
      ]
     },
     "execution_count": 196,
     "metadata": {},
     "output_type": "execute_result"
    }
   ],
   "source": [
    "df = df.rename(columns={\n",
    "    \"Source\": \"source\", \n",
    "    \"Date\": \"datetime\",\n",
    "    \"Mean\": \"mean_temp\"\n",
    "})\n",
    "df.head(3)"
   ]
  },
  {
   "cell_type": "markdown",
   "metadata": {},
   "source": [
    "## 3 - PostgreSQL database, table and user setup"
   ]
  },
  {
   "cell_type": "markdown",
   "metadata": {},
   "source": [
    "First we create the database. I'm assuming you already have PostgreSQL installed on your system. Otherwise you can refer to this link first https://www.postgresql.org/download/."
   ]
  },
  {
   "cell_type": "markdown",
   "metadata": {},
   "source": [
    "Creating the database - Ubuntu command line instructions "
   ]
  },
  {
   "cell_type": "raw",
   "metadata": {},
   "source": [
    ">> sudo -i -u postgres\n",
    ">> psql\n",
    "\n",
    "postgres=# CREATE DATABASE globaldata;\n",
    "postgres=# \\c globaldata;"
   ]
  },
  {
   "cell_type": "markdown",
   "metadata": {},
   "source": [
    "For the sake of simplicity, we are going to create one table only to store everything."
   ]
  },
  {
   "cell_type": "raw",
   "metadata": {},
   "source": [
    "postgres=# CREATE TABLE MonthlyTemp (\n",
    "   id SERIAL PRIMARY KEY,\n",
    "   source VARCHAR (16) NOT NULL,\n",
    "   datetime DATE,\n",
    "   mean_temp FLOAT\n",
    ");"
   ]
  },
  {
   "cell_type": "markdown",
   "metadata": {},
   "source": [
    "Lastly, let's create a user and give them access to our new table."
   ]
  },
  {
   "cell_type": "raw",
   "metadata": {},
   "source": [
    "postgres=# CREATE USER myuser WITH PASSWORD 'Passw0rd';\n",
    "postgres=# GRANT SELECT, INSERT, DELETE, UPDATE on MonthlyTemp to myuser;"
   ]
  },
  {
   "cell_type": "markdown",
   "metadata": {},
   "source": [
    "Last permission to grant, so 'myuser' can autoincrement the 'id' primary key without having to specify it"
   ]
  },
  {
   "cell_type": "raw",
   "metadata": {},
   "source": [
    "postgres=# GRANT USAGE on sequence MonthlyTemp_id_seq to myuser;\n",
    "postgres=# \\q"
   ]
  },
  {
   "cell_type": "markdown",
   "metadata": {},
   "source": [
    "## 4 - Basic Python functions to access the database"
   ]
  },
  {
   "cell_type": "markdown",
   "metadata": {},
   "source": [
    "Alright back to Python. Here are all the functions we will need. For a complete, functioning code, please refer to the src/ subdirectory."
   ]
  },
  {
   "cell_type": "code",
   "execution_count": 197,
   "metadata": {},
   "outputs": [],
   "source": [
    "import psycopg2\n",
    "import numpy as np\n",
    "# Since we want to benchmark the efficiency of each insert strategy\n",
    "from timeit import default_timer as timer"
   ]
  },
  {
   "cell_type": "markdown",
   "metadata": {},
   "source": [
    "Fist, let's specify the connection parameters as a Python dictionary. The database, username and password will be the same that we created in part 3."
   ]
  },
  {
   "cell_type": "code",
   "execution_count": 198,
   "metadata": {},
   "outputs": [],
   "source": [
    "param_dic = {\n",
    "    \"host\"      : \"localhost\",\n",
    "    \"database\"  : \"globaldata\",\n",
    "    \"user\"      : \"myuser\",\n",
    "    \"password\"  : \"Passw0rd\"\n",
    "}"
   ]
  },
  {
   "cell_type": "markdown",
   "metadata": {},
   "source": [
    "This function will allow us to connect to the database"
   ]
  },
  {
   "cell_type": "code",
   "execution_count": 199,
   "metadata": {},
   "outputs": [],
   "source": [
    "def connect(params_dic):\n",
    "    \"\"\" Connect to the PostgreSQL database server \"\"\"\n",
    "    conn = None\n",
    "    try:\n",
    "        # connect to the PostgreSQL server\n",
    "        print('Connecting to the PostgreSQL database...')\n",
    "        conn = psycopg2.connect(**params_dic)\n",
    "    except (Exception, psycopg2.DatabaseError) as error:\n",
    "        print(error)\n",
    "        sys.exit(1) \n",
    "    print(\"Connection successful\")\n",
    "    return conn\n"
   ]
  },
  {
   "cell_type": "markdown",
   "metadata": {},
   "source": [
    "Testing the database connection"
   ]
  },
  {
   "cell_type": "code",
   "execution_count": 200,
   "metadata": {},
   "outputs": [
    {
     "name": "stdout",
     "output_type": "stream",
     "text": [
      "Connecting to the PostgreSQL database...\n",
      "Connection successful\n"
     ]
    }
   ],
   "source": [
    "conn = connect(param_dic)"
   ]
  },
  {
   "cell_type": "markdown",
   "metadata": {},
   "source": [
    "Function to execute any query in the database. Will come in handy later as we test multiple insert tactics."
   ]
  },
  {
   "cell_type": "code",
   "execution_count": 201,
   "metadata": {},
   "outputs": [],
   "source": [
    "def execute_query(conn, query):\n",
    "    \"\"\" Execute a single query \"\"\"\n",
    "    \n",
    "    ret = 0 # Return value\n",
    "    cursor = conn.cursor()\n",
    "    try:\n",
    "        cursor.execute(query)\n",
    "        conn.commit()\n",
    "    except (Exception, psycopg2.DatabaseError) as error:\n",
    "        print(\"Error: %s\" % error)\n",
    "        conn.rollback()\n",
    "        cursor.close()\n",
    "        return 1\n",
    "\n",
    "    # If this was a select query, return the result\n",
    "    if 'select' in query.lower():\n",
    "        ret = cursor.fetchall()\n",
    "    cursor.close()\n",
    "    return ret"
   ]
  },
  {
   "cell_type": "markdown",
   "metadata": {},
   "source": [
    "## Comparing the Bulk Insert Strategies"
   ]
  },
  {
   "cell_type": "markdown",
   "metadata": {},
   "source": [
    "### A - ExecuteMany"
   ]
  },
  {
   "cell_type": "code",
   "execution_count": 202,
   "metadata": {},
   "outputs": [
    {
     "name": "stdout",
     "output_type": "stream",
     "text": [
      "execute_many() done\n"
     ]
    }
   ],
   "source": [
    "def execute_many(conn, df, table):\n",
    "    \"\"\"\n",
    "    Using cursor.executemany() to insert the dataframe\n",
    "    \"\"\"\n",
    "    # Create a list of tupples from the dataframe values\n",
    "    tuples = [tuple(x) for x in df.to_numpy()]\n",
    "    # Comma-separated dataframe columns\n",
    "    cols = ','.join(list(df.columns))\n",
    "    # SQL quert to execute\n",
    "    query  = \"INSERT INTO %s(%s) VALUES(%%s,%%s,%%s)\" % (table, cols)\n",
    "    cursor = conn.cursor()\n",
    "    try:\n",
    "        cursor.executemany(query, tuples)\n",
    "        conn.commit()\n",
    "    except (Exception, psycopg2.DatabaseError) as error:\n",
    "        print(\"Error: %s\" % error)\n",
    "        conn.rollback()\n",
    "        cursor.close()\n",
    "        return 1\n",
    "    print(\"execute_many() done\")\n",
    "    cursor.close()\n",
    "\n",
    "# Run the execute_many strategy\n",
    "execute_many(conn, df, 'MonthlyTemp')"
   ]
  },
  {
   "cell_type": "code",
   "execution_count": 203,
   "metadata": {},
   "outputs": [
    {
     "data": {
      "text/plain": [
       "[(3288,)]"
      ]
     },
     "execution_count": 203,
     "metadata": {},
     "output_type": "execute_result"
    }
   ],
   "source": [
    "# Check that the values were indeed inserted\n",
    "execute_query(conn, \"select count(*) from MonthlyTemp;\")"
   ]
  },
  {
   "cell_type": "code",
   "execution_count": 204,
   "metadata": {},
   "outputs": [
    {
     "data": {
      "text/plain": [
       "0"
      ]
     },
     "execution_count": 204,
     "metadata": {},
     "output_type": "execute_result"
    }
   ],
   "source": [
    "# Clear the table\n",
    "execute_query(conn, \"delete from MonthlyTemp where true;\")"
   ]
  },
  {
   "cell_type": "markdown",
   "metadata": {},
   "source": [
    "### B - ExecuteBatch"
   ]
  },
  {
   "cell_type": "code",
   "execution_count": 205,
   "metadata": {},
   "outputs": [
    {
     "name": "stdout",
     "output_type": "stream",
     "text": [
      "execute_batch() done\n"
     ]
    }
   ],
   "source": [
    "import psycopg2.extras as extras\n",
    "\n",
    "def execute_batch(conn, df, table, page_size=100):\n",
    "    \"\"\"\n",
    "    Using psycopg2.extras.execute_batch() to insert the dataframe\n",
    "    \"\"\"\n",
    "    # Create a list of tupples from the dataframe values\n",
    "    tuples = [tuple(x) for x in df.to_numpy()]\n",
    "    # Comma-separated dataframe columns\n",
    "    cols = ','.join(list(df.columns))\n",
    "    # SQL quert to execute\n",
    "    query  = \"INSERT INTO %s(%s) VALUES(%%s,%%s,%%s)\" % (table, cols)\n",
    "    cursor = conn.cursor()\n",
    "    try:\n",
    "        extras.execute_batch(cursor, query, tuples, page_size)\n",
    "        conn.commit()\n",
    "    except (Exception, psycopg2.DatabaseError) as error:\n",
    "        print(\"Error: %s\" % error)\n",
    "        conn.rollback()\n",
    "        cursor.close()\n",
    "        return 1\n",
    "    print(\"execute_batch() done\")\n",
    "    cursor.close()\n",
    "\n",
    "\n",
    "# Run the execute_many strategy\n",
    "execute_batch(conn, df, 'MonthlyTemp')"
   ]
  },
  {
   "cell_type": "code",
   "execution_count": 206,
   "metadata": {},
   "outputs": [
    {
     "data": {
      "text/plain": [
       "[(3288,)]"
      ]
     },
     "execution_count": 206,
     "metadata": {},
     "output_type": "execute_result"
    }
   ],
   "source": [
    "# Check that the values were indeed inserted\n",
    "execute_query(conn, \"select count(*) from MonthlyTemp;\")"
   ]
  },
  {
   "cell_type": "code",
   "execution_count": 207,
   "metadata": {},
   "outputs": [
    {
     "data": {
      "text/plain": [
       "0"
      ]
     },
     "execution_count": 207,
     "metadata": {},
     "output_type": "execute_result"
    }
   ],
   "source": [
    "# Clear the table\n",
    "execute_query(conn, \"delete from MonthlyTemp where true;\")"
   ]
  },
  {
   "cell_type": "markdown",
   "metadata": {},
   "source": [
    "### C - ExecuteValues"
   ]
  },
  {
   "cell_type": "code",
   "execution_count": 208,
   "metadata": {},
   "outputs": [
    {
     "name": "stdout",
     "output_type": "stream",
     "text": [
      "execute_values() done\n"
     ]
    }
   ],
   "source": [
    "def execute_values(conn, df, table):\n",
    "    \"\"\"\n",
    "    Using psycopg2.extras.execute_values() to insert the dataframe\n",
    "    \"\"\"\n",
    "    # Create a list of tupples from the dataframe values\n",
    "    tuples = [tuple(x) for x in df.to_numpy()]\n",
    "    # Comma-separated dataframe columns\n",
    "    cols = ','.join(list(df.columns))\n",
    "    # SQL quert to execute\n",
    "    query  = \"INSERT INTO %s(%s) VALUES %%s\" % (table, cols)\n",
    "    cursor = conn.cursor()\n",
    "    try:\n",
    "        extras.execute_values(cursor, query, tuples)\n",
    "        conn.commit()\n",
    "    except (Exception, psycopg2.DatabaseError) as error:\n",
    "        print(\"Error: %s\" % error)\n",
    "        conn.rollback()\n",
    "        cursor.close()\n",
    "        return 1\n",
    "    print(\"execute_values() done\")\n",
    "    cursor.close()\n",
    "\n",
    "\n",
    "# Run the execute_many strategy\n",
    "execute_values(conn, df, 'MonthlyTemp')"
   ]
  },
  {
   "cell_type": "code",
   "execution_count": 209,
   "metadata": {},
   "outputs": [
    {
     "data": {
      "text/plain": [
       "[(3288,)]"
      ]
     },
     "execution_count": 209,
     "metadata": {},
     "output_type": "execute_result"
    }
   ],
   "source": [
    "# Check that the values were indeed inserted\n",
    "execute_query(conn, \"select count(*) from MonthlyTemp;\")"
   ]
  },
  {
   "cell_type": "code",
   "execution_count": 210,
   "metadata": {},
   "outputs": [
    {
     "data": {
      "text/plain": [
       "0"
      ]
     },
     "execution_count": 210,
     "metadata": {},
     "output_type": "execute_result"
    }
   ],
   "source": [
    "# Clear the table\n",
    "execute_query(conn, \"delete from MonthlyTemp where true;\")"
   ]
  },
  {
   "cell_type": "markdown",
   "metadata": {},
   "source": [
    "### D - Mogrify() then execute()"
   ]
  },
  {
   "cell_type": "code",
   "execution_count": 211,
   "metadata": {},
   "outputs": [
    {
     "name": "stdout",
     "output_type": "stream",
     "text": [
      "execute_mogrify() done\n"
     ]
    }
   ],
   "source": [
    "def execute_mogrify(conn, df, table):\n",
    "    \"\"\"\n",
    "    Using cursor.mogrify() to build the bulk insert query\n",
    "    then cursor.execute() to execute the query\n",
    "    \"\"\"\n",
    "    # Create a list of tupples from the dataframe values\n",
    "    tuples = [tuple(x) for x in df.to_numpy()]\n",
    "    # Comma-separated dataframe columns\n",
    "    cols = ','.join(list(df.columns))\n",
    "    # SQL quert to execute\n",
    "    cursor = conn.cursor()\n",
    "    values = [cursor.mogrify(\"(%s,%s,%s)\", tup).decode('utf8') for tup in tuples]\n",
    "    query  = \"INSERT INTO %s(%s) VALUES \" % (table, cols) + \",\".join(values)\n",
    "    \n",
    "    try:\n",
    "        cursor.execute(query, tuples)\n",
    "        conn.commit()\n",
    "    except (Exception, psycopg2.DatabaseError) as error:\n",
    "        print(\"Error: %s\" % error)\n",
    "        conn.rollback()\n",
    "        cursor.close()\n",
    "        return 1\n",
    "    print(\"execute_mogrify() done\")\n",
    "    cursor.close()\n",
    "\n",
    "\n",
    "# Run the execute_many strategy\n",
    "execute_mogrify(conn, df, 'MonthlyTemp')"
   ]
  },
  {
   "cell_type": "code",
   "execution_count": 212,
   "metadata": {},
   "outputs": [
    {
     "data": {
      "text/plain": [
       "[(3288,)]"
      ]
     },
     "execution_count": 212,
     "metadata": {},
     "output_type": "execute_result"
    }
   ],
   "source": [
    "# Check that the values were indeed inserted\n",
    "execute_query(conn, \"select count(*) from MonthlyTemp;\")"
   ]
  },
  {
   "cell_type": "code",
   "execution_count": 213,
   "metadata": {},
   "outputs": [
    {
     "data": {
      "text/plain": [
       "0"
      ]
     },
     "execution_count": 213,
     "metadata": {},
     "output_type": "execute_result"
    }
   ],
   "source": [
    "# Clear the table\n",
    "execute_query(conn, \"delete from MonthlyTemp where true;\")"
   ]
  },
  {
   "cell_type": "markdown",
   "metadata": {},
   "source": [
    "### E - CopyFrom()"
   ]
  },
  {
   "cell_type": "code",
   "execution_count": 215,
   "metadata": {},
   "outputs": [
    {
     "name": "stdout",
     "output_type": "stream",
     "text": [
      "copy_from() done\n"
     ]
    }
   ],
   "source": [
    "import os\n",
    "\n",
    "def copy_from(conn, df, table):\n",
    "    \"\"\"\n",
    "    Here we are going save the dataframe on disk as \n",
    "    a csv file, load the csv file  \n",
    "    and use copy_from() to copy it to the table\n",
    "    \"\"\"\n",
    "    # Save the dataframe to disk\n",
    "    tmp_df = \"./tmp_dataframe.csv\"\n",
    "    df.to_csv(tmp_df, index_label='id', header=False)\n",
    "    f = open(tmp_df, 'r')\n",
    "    cursor = conn.cursor()\n",
    "    try:\n",
    "        cursor.copy_from(f, table, sep=\",\")\n",
    "        conn.commit()\n",
    "    except (Exception, psycopg2.DatabaseError) as error:\n",
    "        os.remove(tmp_df)\n",
    "        print(\"Error: %s\" % error)\n",
    "        conn.rollback()\n",
    "        cursor.close()\n",
    "        return 1\n",
    "    print(\"copy_from() done\")\n",
    "    cursor.close()\n",
    "    os.remove(tmp_df)\n",
    "\n",
    "\n",
    "# Run the execute_many strategy\n",
    "copy_from(conn, df, 'MonthlyTemp')"
   ]
  },
  {
   "cell_type": "code",
   "execution_count": 216,
   "metadata": {},
   "outputs": [
    {
     "data": {
      "text/plain": [
       "[(3288,)]"
      ]
     },
     "execution_count": 216,
     "metadata": {},
     "output_type": "execute_result"
    }
   ],
   "source": [
    "# Check that the values were indeed inserted\n",
    "execute_query(conn, \"select count(*) from MonthlyTemp;\")"
   ]
  },
  {
   "cell_type": "code",
   "execution_count": 217,
   "metadata": {},
   "outputs": [
    {
     "data": {
      "text/plain": [
       "0"
      ]
     },
     "execution_count": 217,
     "metadata": {},
     "output_type": "execute_result"
    }
   ],
   "source": [
    "# Clear the table\n",
    "execute_query(conn, \"delete from MonthlyTemp where true;\")"
   ]
  },
  {
   "cell_type": "markdown",
   "metadata": {},
   "source": [
    "# Benchmarking the performance of each strategy"
   ]
  },
  {
   "cell_type": "code",
   "execution_count": 218,
   "metadata": {},
   "outputs": [
    {
     "name": "stdout",
     "output_type": "stream",
     "text": [
      "single_inserts() done\n",
      "execute_many() done\n",
      "execute_batch() done\n",
      "execute_values() done\n",
      "execute_mogrify() done\n",
      "copy_from() done\n"
     ]
    },
    {
     "data": {
      "text/html": [
       "<div>\n",
       "<style scoped>\n",
       "    .dataframe tbody tr th:only-of-type {\n",
       "        vertical-align: middle;\n",
       "    }\n",
       "\n",
       "    .dataframe tbody tr th {\n",
       "        vertical-align: top;\n",
       "    }\n",
       "\n",
       "    .dataframe thead th {\n",
       "        text-align: right;\n",
       "    }\n",
       "</style>\n",
       "<table border=\"1\" class=\"dataframe\">\n",
       "  <thead>\n",
       "    <tr style=\"text-align: right;\">\n",
       "      <th></th>\n",
       "      <th>nrows</th>\n",
       "      <th>strategy</th>\n",
       "      <th>time</th>\n",
       "    </tr>\n",
       "  </thead>\n",
       "  <tbody>\n",
       "    <tr>\n",
       "      <th>0</th>\n",
       "      <td>3288</td>\n",
       "      <td>single_inserts</td>\n",
       "      <td>9.7009</td>\n",
       "    </tr>\n",
       "    <tr>\n",
       "      <th>1</th>\n",
       "      <td>3288</td>\n",
       "      <td>execute_many</td>\n",
       "      <td>0.33336</td>\n",
       "    </tr>\n",
       "    <tr>\n",
       "      <th>2</th>\n",
       "      <td>3288</td>\n",
       "      <td>execute_batch</td>\n",
       "      <td>0.107329</td>\n",
       "    </tr>\n",
       "    <tr>\n",
       "      <th>3</th>\n",
       "      <td>3288</td>\n",
       "      <td>execute_values</td>\n",
       "      <td>0.0582824</td>\n",
       "    </tr>\n",
       "    <tr>\n",
       "      <th>4</th>\n",
       "      <td>3288</td>\n",
       "      <td>execute_mogrify</td>\n",
       "      <td>0.0429705</td>\n",
       "    </tr>\n",
       "    <tr>\n",
       "      <th>5</th>\n",
       "      <td>3288</td>\n",
       "      <td>copy_from</td>\n",
       "      <td>0.0232404</td>\n",
       "    </tr>\n",
       "  </tbody>\n",
       "</table>\n",
       "</div>"
      ],
      "text/plain": [
       "  nrows         strategy       time\n",
       "0  3288   single_inserts     9.7009\n",
       "1  3288     execute_many    0.33336\n",
       "2  3288    execute_batch   0.107329\n",
       "3  3288   execute_values  0.0582824\n",
       "4  3288  execute_mogrify  0.0429705\n",
       "5  3288        copy_from  0.0232404"
      ]
     },
     "execution_count": 218,
     "metadata": {},
     "output_type": "execute_result"
    }
   ],
   "source": [
    "def single_inserts(conn, df, table):\n",
    "    \"\"\"\n",
    "    For benchmarking purposes, let's also implement a strategy in \n",
    "    which the inserts calls are done separately. Here we are \n",
    "    creating and closing a new cursor at each time, so this is probably \n",
    "    one of the slowest ways to achieve what we want.\n",
    "    \"\"\"\n",
    "    for i in df.index:\n",
    "        cols  = ','.join(list(df.columns))\n",
    "        vals  = [df.at[i,col] for col in list(df.columns)]\n",
    "        query = \"INSERT INTO %s(%s) VALUES('%s','%s',%s)\" % (table, cols, vals[0], vals[1], vals[2])\n",
    "        execute_query(conn, query)\n",
    "    print(\"single_inserts() done\")\n",
    "        \n",
    "        \n",
    "#-----------------------------------------\n",
    "# COMPARE THE SPEED OF EACH STRATRGY\n",
    "#-----------------------------------------\n",
    "def benchmark_bulk_inserts(df):\n",
    "    execute_query(conn, \"delete from MonthlyTemp where true;\")\n",
    "    functions = [single_inserts, execute_many, execute_batch, execute_values, execute_mogrify, copy_from]\n",
    "    exec_times = pd.DataFrame(index=range(len(functions)), columns=['nrows','strategy','time'])\n",
    "\n",
    "    i = 0\n",
    "    for strategy in functions:\n",
    "        start = timer()\n",
    "        strategy(conn, df, 'MonthlyTemp')\n",
    "        end = timer()\n",
    "        \n",
    "        exec_times.at[i,'nrows'] = len(df.index)\n",
    "        exec_times.at[i,'strategy'] = strategy.__name__\n",
    "        exec_times.at[i,'time'] = end-start\n",
    "        \n",
    "        # Prepare for the next test\n",
    "        execute_query(conn, \"delete from MonthlyTemp where true;\")\n",
    "        i = i + 1\n",
    "\n",
    "    return exec_times\n",
    "\n",
    "benchmark_bulk_inserts(df)"
   ]
  },
  {
   "cell_type": "markdown",
   "metadata": {},
   "source": [
    "## Trying with 1000 to 100,000 rows"
   ]
  },
  {
   "cell_type": "code",
   "execution_count": 220,
   "metadata": {},
   "outputs": [
    {
     "name": "stdout",
     "output_type": "stream",
     "text": [
      "101928\n"
     ]
    }
   ],
   "source": [
    "# Repeating our dataframe 30 times to get a large test dataframe\n",
    "big_df = pd.concat([df]*31, ignore_index=True)\n",
    "print(len(big_df.index))"
   ]
  },
  {
   "cell_type": "code",
   "execution_count": 221,
   "metadata": {},
   "outputs": [
    {
     "name": "stdout",
     "output_type": "stream",
     "text": [
      "Nrows = 1000\n",
      "single_inserts() done\n",
      "execute_many() done\n",
      "execute_batch() done\n",
      "execute_values() done\n",
      "execute_mogrify() done\n",
      "copy_from() done\n",
      "Nrows = 10000\n",
      "single_inserts() done\n",
      "execute_many() done\n",
      "execute_batch() done\n",
      "execute_values() done\n",
      "execute_mogrify() done\n",
      "copy_from() done\n",
      "Nrows = 50000\n",
      "single_inserts() done\n",
      "execute_many() done\n",
      "execute_batch() done\n",
      "execute_values() done\n",
      "execute_mogrify() done\n",
      "copy_from() done\n",
      "Nrows = 100000\n",
      "single_inserts() done\n",
      "execute_many() done\n",
      "execute_batch() done\n",
      "execute_values() done\n",
      "execute_mogrify() done\n",
      "copy_from() done\n"
     ]
    },
    {
     "data": {
      "text/html": [
       "<div>\n",
       "<style scoped>\n",
       "    .dataframe tbody tr th:only-of-type {\n",
       "        vertical-align: middle;\n",
       "    }\n",
       "\n",
       "    .dataframe tbody tr th {\n",
       "        vertical-align: top;\n",
       "    }\n",
       "\n",
       "    .dataframe thead th {\n",
       "        text-align: right;\n",
       "    }\n",
       "</style>\n",
       "<table border=\"1\" class=\"dataframe\">\n",
       "  <thead>\n",
       "    <tr style=\"text-align: right;\">\n",
       "      <th></th>\n",
       "      <th>index</th>\n",
       "      <th>nrows</th>\n",
       "      <th>strategy</th>\n",
       "      <th>time</th>\n",
       "    </tr>\n",
       "  </thead>\n",
       "  <tbody>\n",
       "    <tr>\n",
       "      <th>0</th>\n",
       "      <td>0</td>\n",
       "      <td>1000</td>\n",
       "      <td>single_inserts</td>\n",
       "      <td>2.83594</td>\n",
       "    </tr>\n",
       "    <tr>\n",
       "      <th>1</th>\n",
       "      <td>1</td>\n",
       "      <td>1000</td>\n",
       "      <td>execute_many</td>\n",
       "      <td>0.197187</td>\n",
       "    </tr>\n",
       "    <tr>\n",
       "      <th>2</th>\n",
       "      <td>2</td>\n",
       "      <td>1000</td>\n",
       "      <td>execute_batch</td>\n",
       "      <td>0.0398618</td>\n",
       "    </tr>\n",
       "    <tr>\n",
       "      <th>3</th>\n",
       "      <td>3</td>\n",
       "      <td>1000</td>\n",
       "      <td>execute_values</td>\n",
       "      <td>0.0139156</td>\n",
       "    </tr>\n",
       "    <tr>\n",
       "      <th>4</th>\n",
       "      <td>4</td>\n",
       "      <td>1000</td>\n",
       "      <td>execute_mogrify</td>\n",
       "      <td>0.0128549</td>\n",
       "    </tr>\n",
       "    <tr>\n",
       "      <th>5</th>\n",
       "      <td>5</td>\n",
       "      <td>1000</td>\n",
       "      <td>copy_from</td>\n",
       "      <td>0.00912031</td>\n",
       "    </tr>\n",
       "    <tr>\n",
       "      <th>6</th>\n",
       "      <td>0</td>\n",
       "      <td>10000</td>\n",
       "      <td>single_inserts</td>\n",
       "      <td>25.5993</td>\n",
       "    </tr>\n",
       "    <tr>\n",
       "      <th>7</th>\n",
       "      <td>1</td>\n",
       "      <td>10000</td>\n",
       "      <td>execute_many</td>\n",
       "      <td>0.948255</td>\n",
       "    </tr>\n",
       "    <tr>\n",
       "      <th>8</th>\n",
       "      <td>2</td>\n",
       "      <td>10000</td>\n",
       "      <td>execute_batch</td>\n",
       "      <td>0.323292</td>\n",
       "    </tr>\n",
       "    <tr>\n",
       "      <th>9</th>\n",
       "      <td>3</td>\n",
       "      <td>10000</td>\n",
       "      <td>execute_values</td>\n",
       "      <td>0.176348</td>\n",
       "    </tr>\n",
       "    <tr>\n",
       "      <th>10</th>\n",
       "      <td>4</td>\n",
       "      <td>10000</td>\n",
       "      <td>execute_mogrify</td>\n",
       "      <td>0.171349</td>\n",
       "    </tr>\n",
       "    <tr>\n",
       "      <th>11</th>\n",
       "      <td>5</td>\n",
       "      <td>10000</td>\n",
       "      <td>copy_from</td>\n",
       "      <td>0.11377</td>\n",
       "    </tr>\n",
       "    <tr>\n",
       "      <th>12</th>\n",
       "      <td>0</td>\n",
       "      <td>50000</td>\n",
       "      <td>single_inserts</td>\n",
       "      <td>148.076</td>\n",
       "    </tr>\n",
       "    <tr>\n",
       "      <th>13</th>\n",
       "      <td>1</td>\n",
       "      <td>50000</td>\n",
       "      <td>execute_many</td>\n",
       "      <td>4.01392</td>\n",
       "    </tr>\n",
       "    <tr>\n",
       "      <th>14</th>\n",
       "      <td>2</td>\n",
       "      <td>50000</td>\n",
       "      <td>execute_batch</td>\n",
       "      <td>1.51862</td>\n",
       "    </tr>\n",
       "    <tr>\n",
       "      <th>15</th>\n",
       "      <td>3</td>\n",
       "      <td>50000</td>\n",
       "      <td>execute_values</td>\n",
       "      <td>0.582719</td>\n",
       "    </tr>\n",
       "    <tr>\n",
       "      <th>16</th>\n",
       "      <td>4</td>\n",
       "      <td>50000</td>\n",
       "      <td>execute_mogrify</td>\n",
       "      <td>0.633806</td>\n",
       "    </tr>\n",
       "    <tr>\n",
       "      <th>17</th>\n",
       "      <td>5</td>\n",
       "      <td>50000</td>\n",
       "      <td>copy_from</td>\n",
       "      <td>0.247277</td>\n",
       "    </tr>\n",
       "    <tr>\n",
       "      <th>18</th>\n",
       "      <td>0</td>\n",
       "      <td>100000</td>\n",
       "      <td>single_inserts</td>\n",
       "      <td>285.319</td>\n",
       "    </tr>\n",
       "    <tr>\n",
       "      <th>19</th>\n",
       "      <td>1</td>\n",
       "      <td>100000</td>\n",
       "      <td>execute_many</td>\n",
       "      <td>8.77304</td>\n",
       "    </tr>\n",
       "    <tr>\n",
       "      <th>20</th>\n",
       "      <td>2</td>\n",
       "      <td>100000</td>\n",
       "      <td>execute_batch</td>\n",
       "      <td>3.51616</td>\n",
       "    </tr>\n",
       "    <tr>\n",
       "      <th>21</th>\n",
       "      <td>3</td>\n",
       "      <td>100000</td>\n",
       "      <td>execute_values</td>\n",
       "      <td>1.86732</td>\n",
       "    </tr>\n",
       "    <tr>\n",
       "      <th>22</th>\n",
       "      <td>4</td>\n",
       "      <td>100000</td>\n",
       "      <td>execute_mogrify</td>\n",
       "      <td>1.73853</td>\n",
       "    </tr>\n",
       "    <tr>\n",
       "      <th>23</th>\n",
       "      <td>5</td>\n",
       "      <td>100000</td>\n",
       "      <td>copy_from</td>\n",
       "      <td>0.667623</td>\n",
       "    </tr>\n",
       "  </tbody>\n",
       "</table>\n",
       "</div>"
      ],
      "text/plain": [
       "    index   nrows         strategy        time\n",
       "0       0    1000   single_inserts     2.83594\n",
       "1       1    1000     execute_many    0.197187\n",
       "2       2    1000    execute_batch   0.0398618\n",
       "3       3    1000   execute_values   0.0139156\n",
       "4       4    1000  execute_mogrify   0.0128549\n",
       "5       5    1000        copy_from  0.00912031\n",
       "6       0   10000   single_inserts     25.5993\n",
       "7       1   10000     execute_many    0.948255\n",
       "8       2   10000    execute_batch    0.323292\n",
       "9       3   10000   execute_values    0.176348\n",
       "10      4   10000  execute_mogrify    0.171349\n",
       "11      5   10000        copy_from     0.11377\n",
       "12      0   50000   single_inserts     148.076\n",
       "13      1   50000     execute_many     4.01392\n",
       "14      2   50000    execute_batch     1.51862\n",
       "15      3   50000   execute_values    0.582719\n",
       "16      4   50000  execute_mogrify    0.633806\n",
       "17      5   50000        copy_from    0.247277\n",
       "18      0  100000   single_inserts     285.319\n",
       "19      1  100000     execute_many     8.77304\n",
       "20      2  100000    execute_batch     3.51616\n",
       "21      3  100000   execute_values     1.86732\n",
       "22      4  100000  execute_mogrify     1.73853\n",
       "23      5  100000        copy_from    0.667623"
      ]
     },
     "execution_count": 221,
     "metadata": {},
     "output_type": "execute_result"
    }
   ],
   "source": [
    "df_lst = []\n",
    "\n",
    "for nrows in [1000,10000,50000,100000]:\n",
    "    print(\"Nrows = %s\" % nrows)\n",
    "    test_df = big_df[0:nrows]\n",
    "    perf_df = benchmark_bulk_inserts(test_df)\n",
    "    df_lst.append(perf_df)\n",
    "    \n",
    "\n",
    "performances = pd.concat(df_lst, axis=0).reset_index()\n",
    "performances"
   ]
  },
  {
   "cell_type": "code",
   "execution_count": 222,
   "metadata": {},
   "outputs": [
    {
     "data": {
      "image/png": "[encoded data removed]",
      "text/plain": [
       "<Figure size 864x360 with 1 Axes>"
      ]
     },
     "metadata": {
      "needs_background": "light"
     },
     "output_type": "display_data"
    }
   ],
   "source": [
    "import matplotlib.pyplot as plt\n",
    "\n",
    "fig, ax = plt.subplots(figsize=(12,5))\n",
    "for strategy in performances['strategy'].unique():\n",
    "    subset = performances[performances['strategy'] == strategy]\n",
    "    ax.plot(subset['nrows'], subset['time'], 'o--', label=strategy)\n",
    "\n",
    "plt.xlabel('Number of rows in dataframe')\n",
    "plt.ylabel('Execution time (sec)')\n",
    "plt.title(\"COMPARING THE DIFFERENT INSERT STRATEGIES\", fontsize=14)\n",
    "plt.legend()\n",
    "plt.show()"
   ]
  },
  {
   "cell_type": "markdown",
   "metadata": {},
   "source": [
    "### CONCLUSION 1\n",
    "If you care about speed, avoid doing single inserts at all costs."
   ]
  },
  {
   "cell_type": "code",
   "execution_count": 225,
   "metadata": {},
   "outputs": [
    {
     "data": {
      "image/png": "[encoded data removed]",
      "text/plain": [
       "<Figure size 864x360 with 1 Axes>"
      ]
     },
     "metadata": {
      "needs_background": "light"
     },
     "output_type": "display_data"
    }
   ],
   "source": [
    "fig, ax = plt.subplots(figsize=(12,5))\n",
    "for strategy in performances['strategy'].unique():\n",
    "    if strategy != 'single_inserts':\n",
    "        subset = performances[performances['strategy'] == strategy]\n",
    "        ax.plot(subset['nrows'], subset['time'], 'o--', label=strategy)\n",
    "\n",
    "plt.xlabel('Number of rows in dataframe')\n",
    "plt.ylabel('Execution time (sec)')\n",
    "plt.title(\"COMPARING THE BULK INSERT STRATEGIES\", fontsize=14)\n",
    "plt.legend()\n",
    "plt.savefig(\"./benchmark.png\", dpi=400)\n",
    "plt.show()"
   ]
  },
  {
   "cell_type": "markdown",
   "metadata": {},
   "source": [
    "### CONCLUSION 2\n",
    "So **execute_values()** and **execute_mogrify()** are doing fine...but the best solution seems to be to  \n",
    "  - do whatever transformation you need to do with pandas\n",
    "  - make sure to rename the dataframe columns to fit your sql table (IN THE RIGHT ORDER)\n",
    "  - save the transformed database on disk\n",
    "  - use copy_from() to load your csv file in the database\n",
    "  \n",
    "I don't know about you, but it is kind of sad to see that a good old copy is doing a better job than execute_values() and execute_mogrify()... But sometimes low tech is best."
   ]
  },
  {
   "cell_type": "code",
   "execution_count": null,
   "metadata": {},
   "outputs": [],
   "source": []
  }
 ],
 "metadata": {
  "kernelspec": {
   "display_name": "Python 3",
   "language": "python",
   "name": "python3"
  },
  "language_info": {
   "codemirror_mode": {
    "name": "ipython",
    "version": 3
   },
   "file_extension": ".py",
   "mimetype": "text/x-python",
   "name": "python",
   "nbconvert_exporter": "python",
   "pygments_lexer": "ipython3",
   "version": "3.6.8"
  }
 },
 "nbformat": 4,
 "nbformat_minor": 2
}
