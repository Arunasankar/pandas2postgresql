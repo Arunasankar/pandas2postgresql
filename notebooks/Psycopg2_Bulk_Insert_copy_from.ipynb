{
 "cells": [
  {
   "cell_type": "markdown",
   "metadata": {},
   "source": [
    "# From Pandas to PostgreSQL: Bulk Insert with copy_from()"
   ]
  },
  {
   "cell_type": "markdown",
   "metadata": {},
   "source": [
    "*By Naysan Saran, June 2020.*"
   ]
  },
  {
   "cell_type": "markdown",
   "metadata": {},
   "source": [
    "## 1 - Introduction"
   ]
  },
  {
   "cell_type": "markdown",
   "metadata": {},
   "source": [
    "This file is associated with my blog post. \n",
    "\n",
    "First we need to load the dataframe:"
   ]
  },
  {
   "cell_type": "code",
   "execution_count": 1,
   "metadata": {},
   "outputs": [
    {
     "data": {
      "text/html": [
       "<div>\n",
       "<style scoped>\n",
       "    .dataframe tbody tr th:only-of-type {\n",
       "        vertical-align: middle;\n",
       "    }\n",
       "\n",
       "    .dataframe tbody tr th {\n",
       "        vertical-align: top;\n",
       "    }\n",
       "\n",
       "    .dataframe thead th {\n",
       "        text-align: right;\n",
       "    }\n",
       "</style>\n",
       "<table border=\"1\" class=\"dataframe\">\n",
       "  <thead>\n",
       "    <tr style=\"text-align: right;\">\n",
       "      <th></th>\n",
       "      <th>source</th>\n",
       "      <th>datetime</th>\n",
       "      <th>mean_temp</th>\n",
       "    </tr>\n",
       "  </thead>\n",
       "  <tbody>\n",
       "    <tr>\n",
       "      <th>0</th>\n",
       "      <td>GCAG</td>\n",
       "      <td>2016-12-06</td>\n",
       "      <td>0.7895</td>\n",
       "    </tr>\n",
       "    <tr>\n",
       "      <th>1</th>\n",
       "      <td>GISTEMP</td>\n",
       "      <td>2016-12-06</td>\n",
       "      <td>0.8100</td>\n",
       "    </tr>\n",
       "    <tr>\n",
       "      <th>2</th>\n",
       "      <td>GCAG</td>\n",
       "      <td>2016-11-06</td>\n",
       "      <td>0.7504</td>\n",
       "    </tr>\n",
       "  </tbody>\n",
       "</table>\n",
       "</div>"
      ],
      "text/plain": [
       "    source    datetime  mean_temp\n",
       "0     GCAG  2016-12-06     0.7895\n",
       "1  GISTEMP  2016-12-06     0.8100\n",
       "2     GCAG  2016-11-06     0.7504"
      ]
     },
     "execution_count": 1,
     "metadata": {},
     "output_type": "execute_result"
    }
   ],
   "source": [
    "import pandas as pd\n",
    "\n",
    "csv_file = \"../data/global-temp-monthly.csv\"\n",
    "df = pd.read_csv(csv_file)\n",
    "df = df.rename(columns={\n",
    "    \"Source\": \"source\", \n",
    "    \"Date\": \"datetime\",\n",
    "    \"Mean\": \"mean_temp\"\n",
    "})\n",
    "df.head(3)"
   ]
  },
  {
   "cell_type": "markdown",
   "metadata": {},
   "source": [
    "## Option 1: saving the dataframe to disk first"
   ]
  },
  {
   "cell_type": "code",
   "execution_count": 2,
   "metadata": {},
   "outputs": [
    {
     "name": "stdout",
     "output_type": "stream",
     "text": [
      "Connecting to the PostgreSQL database...\n",
      "Connection successful\n",
      "copy_from_file() done\n"
     ]
    }
   ],
   "source": [
    "import psycopg2\n",
    "import os\n",
    "\n",
    "# Connection parameters\n",
    "param_dic = {\n",
    "    \"host\"      : \"localhost\",\n",
    "    \"database\"  : \"globaldata\",\n",
    "    \"user\"      : \"myuser\",\n",
    "    \"password\"  : \"Passw0rd\"\n",
    "}\n",
    "\n",
    "def connect(params_dic):\n",
    "    \"\"\" Connect to the PostgreSQL database server \"\"\"\n",
    "    conn = None\n",
    "    try:\n",
    "        # connect to the PostgreSQL server\n",
    "        print('Connecting to the PostgreSQL database...')\n",
    "        conn = psycopg2.connect(**params_dic)\n",
    "    except (Exception, psycopg2.DatabaseError) as error:\n",
    "        print(error)\n",
    "        sys.exit(1) \n",
    "    print(\"Connection successful\")\n",
    "    return conn\n",
    "\n",
    "\n",
    "def copy_from_file(conn, df, table):\n",
    "    \"\"\"\n",
    "    Here we are going save the dataframe on disk as \n",
    "    a csv file, load the csv file  \n",
    "    and use copy_from() to copy it to the table\n",
    "    \"\"\"\n",
    "    # Save the dataframe to disk\n",
    "    tmp_df = \"./tmp_dataframe.csv\"\n",
    "    df.to_csv(tmp_df, index_label='id', header=False)\n",
    "    f = open(tmp_df, 'r')\n",
    "    cursor = conn.cursor()\n",
    "    try:\n",
    "        cursor.copy_from(f, table, sep=\",\")\n",
    "        conn.commit()\n",
    "    except (Exception, psycopg2.DatabaseError) as error:\n",
    "        os.remove(tmp_df)\n",
    "        print(\"Error: %s\" % error)\n",
    "        conn.rollback()\n",
    "        cursor.close()\n",
    "        return 1\n",
    "    print(\"copy_from_file() done\")\n",
    "    cursor.close()\n",
    "    os.remove(tmp_df)\n",
    "\n",
    "    \n",
    "#-----------------------------------------------\n",
    "# Main code\n",
    "#-----------------------------------------------\n",
    "conn = connect(param_dic) # connect to the database\n",
    "copy_from_file(conn, df, 'MonthlyTemp') # copy the dataframe to SQL\n",
    "conn.close() # close the connection"
   ]
  },
  {
   "cell_type": "markdown",
   "metadata": {},
   "source": [
    "## Option 2: Saving the dataframe to memory using StringIO"
   ]
  },
  {
   "cell_type": "code",
   "execution_count": 3,
   "metadata": {},
   "outputs": [
    {
     "name": "stdout",
     "output_type": "stream",
     "text": [
      "Connecting to the PostgreSQL database...\n",
      "Connection successful\n",
      "copy_from_stringio() done\n"
     ]
    }
   ],
   "source": [
    "import psycopg2\n",
    "from io import StringIO\n",
    "\n",
    "# Connection parameters\n",
    "param_dic = {\n",
    "    \"host\"      : \"localhost\",\n",
    "    \"database\"  : \"globaldata\",\n",
    "    \"user\"      : \"myuser\",\n",
    "    \"password\"  : \"Passw0rd\"\n",
    "}\n",
    "\n",
    "def connect(params_dic):\n",
    "    \"\"\" Connect to the PostgreSQL database server \"\"\"\n",
    "    conn = None\n",
    "    try:\n",
    "        # connect to the PostgreSQL server\n",
    "        print('Connecting to the PostgreSQL database...')\n",
    "        conn = psycopg2.connect(**params_dic)\n",
    "    except (Exception, psycopg2.DatabaseError) as error:\n",
    "        print(error)\n",
    "        sys.exit(1) \n",
    "    print(\"Connection successful\")\n",
    "    return conn\n",
    "\n",
    "\n",
    "def copy_from_stringio(conn, df, table):\n",
    "    \"\"\"\n",
    "    Here we are going save the dataframe in memory \n",
    "    and use copy_from() to copy it to the table\n",
    "    \"\"\"\n",
    "    # save dataframe to an in memory buffer\n",
    "    buffer = StringIO()\n",
    "    df.to_csv(buffer, index_label='id', header=False)\n",
    "    buffer.seek(0)\n",
    "    \n",
    "    cursor = conn.cursor()\n",
    "    try:\n",
    "        cursor.copy_from(buffer, table, sep=\",\")\n",
    "        conn.commit()\n",
    "    except (Exception, psycopg2.DatabaseError) as error:\n",
    "        os.remove(tmp_df)\n",
    "        print(\"Error: %s\" % error)\n",
    "        conn.rollback()\n",
    "        cursor.close()\n",
    "        return 1\n",
    "    print(\"copy_from_stringio() done\")\n",
    "    cursor.close()\n",
    "\n",
    "    \n",
    "#-----------------------------------------------\n",
    "# Main code\n",
    "#-----------------------------------------------\n",
    "conn = connect(param_dic) # connect to the database\n",
    "copy_from_stringio(conn, df, 'MonthlyTemp') # copy the dataframe to SQL\n",
    "conn.close() # close the connection"
   ]
  },
  {
   "cell_type": "code",
   "execution_count": null,
   "metadata": {},
   "outputs": [],
   "source": []
  }
 ],
 "metadata": {
  "kernelspec": {
   "display_name": "Python 3",
   "language": "python",
   "name": "python3"
  },
  "language_info": {
   "codemirror_mode": {
    "name": "ipython",
    "version": 3
   },
   "file_extension": ".py",
   "mimetype": "text/x-python",
   "name": "python",
   "nbconvert_exporter": "python",
   "pygments_lexer": "ipython3",
   "version": "3.6.8"
  }
 },
 "nbformat": 4,
 "nbformat_minor": 2
}
