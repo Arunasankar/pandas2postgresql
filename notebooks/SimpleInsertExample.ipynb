{
 "cells": [
  {
   "cell_type": "markdown",
   "metadata": {},
   "source": [
    "# From Pandas to PostgreSQL: Simple Insert Example"
   ]
  },
  {
   "cell_type": "markdown",
   "metadata": {},
   "source": [
    "*By Naysan Saran, November 2019.*"
   ]
  },
  {
   "cell_type": "markdown",
   "metadata": {},
   "source": [
    "## 1 - Introduction"
   ]
  },
  {
   "cell_type": "markdown",
   "metadata": {},
   "source": [
    "In this tutorial we will go through all the steps required to \n",
    "\n",
    "- turn a csv into a pandas dataframe\n",
    "- create the corresponding PostgreSQL database and table\n",
    "- insert the pandas dataframe in the PostgreSQL table\n",
    "\n",
    "The data for this tutorial is freely available from the World Bank website https://data.worldbank.org/indicator/en.atm.co2e.pc. The version stored in the data/ directory of this repo is a simplified version of that zip file."
   ]
  },
  {
   "cell_type": "markdown",
   "metadata": {},
   "source": [
    "## 2 - From csv file to pandas dataframe"
   ]
  },
  {
   "cell_type": "code",
   "execution_count": 1,
   "metadata": {},
   "outputs": [
    {
     "data": {
      "text/html": [
       "<div>\n",
       "<style scoped>\n",
       "    .dataframe tbody tr th:only-of-type {\n",
       "        vertical-align: middle;\n",
       "    }\n",
       "\n",
       "    .dataframe tbody tr th {\n",
       "        vertical-align: top;\n",
       "    }\n",
       "\n",
       "    .dataframe thead th {\n",
       "        text-align: right;\n",
       "    }\n",
       "</style>\n",
       "<table border=\"1\" class=\"dataframe\">\n",
       "  <thead>\n",
       "    <tr style=\"text-align: right;\">\n",
       "      <th></th>\n",
       "      <th>Country Name</th>\n",
       "      <th>Indicator Name</th>\n",
       "      <th>1960</th>\n",
       "      <th>1961</th>\n",
       "      <th>1962</th>\n",
       "      <th>1963</th>\n",
       "      <th>1964</th>\n",
       "      <th>1965</th>\n",
       "      <th>1966</th>\n",
       "      <th>1967</th>\n",
       "      <th>...</th>\n",
       "      <th>2005</th>\n",
       "      <th>2006</th>\n",
       "      <th>2007</th>\n",
       "      <th>2008</th>\n",
       "      <th>2009</th>\n",
       "      <th>2010</th>\n",
       "      <th>2011</th>\n",
       "      <th>2012</th>\n",
       "      <th>2013</th>\n",
       "      <th>2014</th>\n",
       "    </tr>\n",
       "  </thead>\n",
       "  <tbody>\n",
       "    <tr>\n",
       "      <td>0</td>\n",
       "      <td>Aruba</td>\n",
       "      <td>CO2 emissions (metric tons per capita)</td>\n",
       "      <td>NaN</td>\n",
       "      <td>NaN</td>\n",
       "      <td>NaN</td>\n",
       "      <td>NaN</td>\n",
       "      <td>NaN</td>\n",
       "      <td>NaN</td>\n",
       "      <td>NaN</td>\n",
       "      <td>NaN</td>\n",
       "      <td>...</td>\n",
       "      <td>27.200708</td>\n",
       "      <td>26.947726</td>\n",
       "      <td>27.895023</td>\n",
       "      <td>26.229553</td>\n",
       "      <td>25.915322</td>\n",
       "      <td>24.670529</td>\n",
       "      <td>24.507516</td>\n",
       "      <td>13.157722</td>\n",
       "      <td>8.353561</td>\n",
       "      <td>8.410064</td>\n",
       "    </tr>\n",
       "    <tr>\n",
       "      <td>1</td>\n",
       "      <td>Afghanistan</td>\n",
       "      <td>CO2 emissions (metric tons per capita)</td>\n",
       "      <td>0.046057</td>\n",
       "      <td>0.053589</td>\n",
       "      <td>0.073721</td>\n",
       "      <td>0.074161</td>\n",
       "      <td>0.086174</td>\n",
       "      <td>0.101285</td>\n",
       "      <td>0.107399</td>\n",
       "      <td>0.123410</td>\n",
       "      <td>...</td>\n",
       "      <td>0.051744</td>\n",
       "      <td>0.062428</td>\n",
       "      <td>0.083893</td>\n",
       "      <td>0.151721</td>\n",
       "      <td>0.238399</td>\n",
       "      <td>0.289988</td>\n",
       "      <td>0.406424</td>\n",
       "      <td>0.345149</td>\n",
       "      <td>0.310341</td>\n",
       "      <td>0.293946</td>\n",
       "    </tr>\n",
       "    <tr>\n",
       "      <td>2</td>\n",
       "      <td>Angola</td>\n",
       "      <td>CO2 emissions (metric tons per capita)</td>\n",
       "      <td>0.100835</td>\n",
       "      <td>0.082204</td>\n",
       "      <td>0.210531</td>\n",
       "      <td>0.202737</td>\n",
       "      <td>0.213560</td>\n",
       "      <td>0.205891</td>\n",
       "      <td>0.268941</td>\n",
       "      <td>0.172102</td>\n",
       "      <td>...</td>\n",
       "      <td>0.985736</td>\n",
       "      <td>1.105019</td>\n",
       "      <td>1.203134</td>\n",
       "      <td>1.185000</td>\n",
       "      <td>1.234425</td>\n",
       "      <td>1.244092</td>\n",
       "      <td>1.252681</td>\n",
       "      <td>1.330219</td>\n",
       "      <td>1.253776</td>\n",
       "      <td>1.290307</td>\n",
       "    </tr>\n",
       "  </tbody>\n",
       "</table>\n",
       "<p>3 rows × 57 columns</p>\n",
       "</div>"
      ],
      "text/plain": [
       "  Country Name                          Indicator Name      1960      1961  \\\n",
       "0        Aruba  CO2 emissions (metric tons per capita)       NaN       NaN   \n",
       "1  Afghanistan  CO2 emissions (metric tons per capita)  0.046057  0.053589   \n",
       "2       Angola  CO2 emissions (metric tons per capita)  0.100835  0.082204   \n",
       "\n",
       "       1962      1963      1964      1965      1966      1967  ...       2005  \\\n",
       "0       NaN       NaN       NaN       NaN       NaN       NaN  ...  27.200708   \n",
       "1  0.073721  0.074161  0.086174  0.101285  0.107399  0.123410  ...   0.051744   \n",
       "2  0.210531  0.202737  0.213560  0.205891  0.268941  0.172102  ...   0.985736   \n",
       "\n",
       "        2006       2007       2008       2009       2010       2011  \\\n",
       "0  26.947726  27.895023  26.229553  25.915322  24.670529  24.507516   \n",
       "1   0.062428   0.083893   0.151721   0.238399   0.289988   0.406424   \n",
       "2   1.105019   1.203134   1.185000   1.234425   1.244092   1.252681   \n",
       "\n",
       "        2012      2013      2014  \n",
       "0  13.157722  8.353561  8.410064  \n",
       "1   0.345149  0.310341  0.293946  \n",
       "2   1.330219  1.253776  1.290307  \n",
       "\n",
       "[3 rows x 57 columns]"
      ]
     },
     "execution_count": 1,
     "metadata": {},
     "output_type": "execute_result"
    }
   ],
   "source": [
    "import pandas as pd\n",
    "\n",
    "csv_file = \"../data/global_CO2_emissions.csv\"\n",
    "df = pd.read_csv(csv_file)\n",
    "df.head(n=3)"
   ]
  },
  {
   "cell_type": "markdown",
   "metadata": {},
   "source": [
    "## 3 - PostgreSQL database, table and user setup"
   ]
  },
  {
   "cell_type": "markdown",
   "metadata": {},
   "source": [
    "First we create the database. I'm assuming you already have PostgreSQL installed on your system. Otherwise you can refer to this link first https://www.postgresql.org/download/."
   ]
  },
  {
   "cell_type": "markdown",
   "metadata": {},
   "source": [
    "Creating the database - Ubuntu command line instructions "
   ]
  },
  {
   "cell_type": "raw",
   "metadata": {},
   "source": [
    ">> sudo -i -u postgres\n",
    ">> psql\n",
    "\n",
    "postgres=# CREATE DATABASE worldbankdata;\n",
    "postgres=# \\c worldbankdata;"
   ]
  },
  {
   "cell_type": "markdown",
   "metadata": {},
   "source": [
    "For the sake of simplicity, we are going to create one table only to store everything."
   ]
  },
  {
   "cell_type": "raw",
   "metadata": {},
   "source": [
    "postgres=# CREATE TABLE emissions(\n",
    "   id SERIAL PRIMARY KEY,\n",
    "   country_name VARCHAR (120) NOT NULL,\n",
    "   year INTEGER,\n",
    "   co2 DECIMAL\n",
    ");"
   ]
  },
  {
   "cell_type": "markdown",
   "metadata": {},
   "source": [
    "Lastly, let's create a user and give them access to our new table."
   ]
  },
  {
   "cell_type": "raw",
   "metadata": {},
   "source": [
    "postgres=# CREATE USER myuser WITH PASSWORD 'Passw0rd';\n",
    "postgres=# GRANT SELECT, INSERT, DELETE, UPDATE on emissions to myuser;"
   ]
  },
  {
   "cell_type": "markdown",
   "metadata": {},
   "source": [
    "Last permission to grant, so 'myuser' can autoincrement the 'id' primary key without having to specify it"
   ]
  },
  {
   "cell_type": "raw",
   "metadata": {},
   "source": [
    "postgres=# GRANT USAGE on sequence emissions_id_seq to myuser;\n",
    "postgres=# \\q"
   ]
  },
  {
   "cell_type": "markdown",
   "metadata": {},
   "source": [
    "## 4 - Uploading the dataframe in PostgreSQL"
   ]
  },
  {
   "cell_type": "markdown",
   "metadata": {},
   "source": [
    "Alright back to Python. Here are all the functions we will need. For a complete, functioning code, please refer to the src/ subdirectory."
   ]
  },
  {
   "cell_type": "code",
   "execution_count": 2,
   "metadata": {},
   "outputs": [],
   "source": [
    "import psycopg2\n",
    "import numpy as np\n",
    "\n",
    "def connect(params_dic):\n",
    "    \"\"\" Connect to the PostgreSQL database server \"\"\"\n",
    "    conn = None\n",
    "    try:\n",
    "        # connect to the PostgreSQL server\n",
    "        print('Connecting to the PostgreSQL database...')\n",
    "        conn = psycopg2.connect(**params_dic)\n",
    "\n",
    "    except (Exception, psycopg2.DatabaseError) as error:\n",
    "        print(error)\n",
    "        sys.exit(1) \n",
    "    return conn\n",
    "\n",
    "\n",
    "def single_insert(conn, insert_req):\n",
    "    \"\"\" Execute a single INSERT request \"\"\"\n",
    "    cursor = conn.cursor()\n",
    "    try:\n",
    "        cursor.execute(insert_req)\n",
    "        conn.commit()\n",
    "    except (Exception, psycopg2.DatabaseError) as error:\n",
    "        print(\"Error: %s\" % error)\n",
    "        conn.rollback()\n",
    "        cursor.close()\n",
    "        return 1\n",
    "    cursor.close()\n",
    "    "
   ]
  },
  {
   "cell_type": "markdown",
   "metadata": {},
   "source": [
    "Now let's specity the connection parameters. The database, username and password will be the same that we created in part 3."
   ]
  },
  {
   "cell_type": "code",
   "execution_count": 3,
   "metadata": {},
   "outputs": [],
   "source": [
    "param_dic = {\n",
    "    \"host\"      : \"localhost\",\n",
    "    \"database\"  : \"worldbankdata\",\n",
    "    \"user\"      : \"myuser\",\n",
    "    \"password\"  : \"Passw0rd\"\n",
    "}"
   ]
  },
  {
   "cell_type": "markdown",
   "metadata": {},
   "source": [
    "Testing the database connection"
   ]
  },
  {
   "cell_type": "code",
   "execution_count": 4,
   "metadata": {},
   "outputs": [
    {
     "name": "stdout",
     "output_type": "stream",
     "text": [
      "Connecting to the PostgreSQL database...\n"
     ]
    }
   ],
   "source": [
    "conn = connect(param_dic)"
   ]
  },
  {
   "cell_type": "markdown",
   "metadata": {},
   "source": [
    "Just before we insert rows in our table, we can cleanup our Pandas dataframe a little bit."
   ]
  },
  {
   "cell_type": "code",
   "execution_count": 5,
   "metadata": {},
   "outputs": [],
   "source": [
    "# Drop the 'Indicator Name' column as we don't need it\n",
    "df.drop('Indicator Name', axis=1, inplace=True)"
   ]
  },
  {
   "cell_type": "code",
   "execution_count": 6,
   "metadata": {},
   "outputs": [],
   "source": [
    "# Replace NaN values with 'NULL'\n",
    "years = [x for x in df.columns if x != 'Country Name']\n",
    "for year in years:\n",
    "    df[year] = df[year].apply(lambda x: 'NULL' if np.isnan(x) else x)"
   ]
  },
  {
   "cell_type": "code",
   "execution_count": 7,
   "metadata": {},
   "outputs": [
    {
     "data": {
      "text/html": [
       "<div>\n",
       "<style scoped>\n",
       "    .dataframe tbody tr th:only-of-type {\n",
       "        vertical-align: middle;\n",
       "    }\n",
       "\n",
       "    .dataframe tbody tr th {\n",
       "        vertical-align: top;\n",
       "    }\n",
       "\n",
       "    .dataframe thead th {\n",
       "        text-align: right;\n",
       "    }\n",
       "</style>\n",
       "<table border=\"1\" class=\"dataframe\">\n",
       "  <thead>\n",
       "    <tr style=\"text-align: right;\">\n",
       "      <th></th>\n",
       "      <th>Country Name</th>\n",
       "      <th>1960</th>\n",
       "      <th>1961</th>\n",
       "      <th>1962</th>\n",
       "      <th>1963</th>\n",
       "      <th>1964</th>\n",
       "      <th>1965</th>\n",
       "      <th>1966</th>\n",
       "      <th>1967</th>\n",
       "      <th>1968</th>\n",
       "      <th>...</th>\n",
       "      <th>2005</th>\n",
       "      <th>2006</th>\n",
       "      <th>2007</th>\n",
       "      <th>2008</th>\n",
       "      <th>2009</th>\n",
       "      <th>2010</th>\n",
       "      <th>2011</th>\n",
       "      <th>2012</th>\n",
       "      <th>2013</th>\n",
       "      <th>2014</th>\n",
       "    </tr>\n",
       "  </thead>\n",
       "  <tbody>\n",
       "    <tr>\n",
       "      <td>0</td>\n",
       "      <td>Aruba</td>\n",
       "      <td>NULL</td>\n",
       "      <td>NULL</td>\n",
       "      <td>NULL</td>\n",
       "      <td>NULL</td>\n",
       "      <td>NULL</td>\n",
       "      <td>NULL</td>\n",
       "      <td>NULL</td>\n",
       "      <td>NULL</td>\n",
       "      <td>NULL</td>\n",
       "      <td>...</td>\n",
       "      <td>27.2007</td>\n",
       "      <td>26.9477</td>\n",
       "      <td>27.895</td>\n",
       "      <td>26.2296</td>\n",
       "      <td>25.9153</td>\n",
       "      <td>24.6705</td>\n",
       "      <td>24.5075</td>\n",
       "      <td>13.1577</td>\n",
       "      <td>8.35356</td>\n",
       "      <td>8.41006</td>\n",
       "    </tr>\n",
       "    <tr>\n",
       "      <td>1</td>\n",
       "      <td>Afghanistan</td>\n",
       "      <td>0.0460567</td>\n",
       "      <td>0.0535888</td>\n",
       "      <td>0.0737208</td>\n",
       "      <td>0.0741607</td>\n",
       "      <td>0.0861736</td>\n",
       "      <td>0.101285</td>\n",
       "      <td>0.107399</td>\n",
       "      <td>0.12341</td>\n",
       "      <td>0.115142</td>\n",
       "      <td>...</td>\n",
       "      <td>0.051744</td>\n",
       "      <td>0.0624275</td>\n",
       "      <td>0.0838928</td>\n",
       "      <td>0.151721</td>\n",
       "      <td>0.238399</td>\n",
       "      <td>0.289988</td>\n",
       "      <td>0.406424</td>\n",
       "      <td>0.345149</td>\n",
       "      <td>0.310341</td>\n",
       "      <td>0.293946</td>\n",
       "    </tr>\n",
       "    <tr>\n",
       "      <td>2</td>\n",
       "      <td>Angola</td>\n",
       "      <td>0.100835</td>\n",
       "      <td>0.0822038</td>\n",
       "      <td>0.210531</td>\n",
       "      <td>0.202737</td>\n",
       "      <td>0.21356</td>\n",
       "      <td>0.205891</td>\n",
       "      <td>0.268941</td>\n",
       "      <td>0.172102</td>\n",
       "      <td>0.289718</td>\n",
       "      <td>...</td>\n",
       "      <td>0.985736</td>\n",
       "      <td>1.10502</td>\n",
       "      <td>1.20313</td>\n",
       "      <td>1.185</td>\n",
       "      <td>1.23443</td>\n",
       "      <td>1.24409</td>\n",
       "      <td>1.25268</td>\n",
       "      <td>1.33022</td>\n",
       "      <td>1.25378</td>\n",
       "      <td>1.29031</td>\n",
       "    </tr>\n",
       "    <tr>\n",
       "      <td>3</td>\n",
       "      <td>Albania</td>\n",
       "      <td>1.25819</td>\n",
       "      <td>1.37419</td>\n",
       "      <td>1.43996</td>\n",
       "      <td>1.18168</td>\n",
       "      <td>1.11174</td>\n",
       "      <td>1.1661</td>\n",
       "      <td>1.33306</td>\n",
       "      <td>1.36375</td>\n",
       "      <td>1.51955</td>\n",
       "      <td>...</td>\n",
       "      <td>1.4125</td>\n",
       "      <td>1.30258</td>\n",
       "      <td>1.32233</td>\n",
       "      <td>1.48431</td>\n",
       "      <td>1.4956</td>\n",
       "      <td>1.57857</td>\n",
       "      <td>1.80371</td>\n",
       "      <td>1.69291</td>\n",
       "      <td>1.74921</td>\n",
       "      <td>1.97876</td>\n",
       "    </tr>\n",
       "    <tr>\n",
       "      <td>4</td>\n",
       "      <td>Andorra</td>\n",
       "      <td>NULL</td>\n",
       "      <td>NULL</td>\n",
       "      <td>NULL</td>\n",
       "      <td>NULL</td>\n",
       "      <td>NULL</td>\n",
       "      <td>NULL</td>\n",
       "      <td>NULL</td>\n",
       "      <td>NULL</td>\n",
       "      <td>NULL</td>\n",
       "      <td>...</td>\n",
       "      <td>7.29987</td>\n",
       "      <td>6.74605</td>\n",
       "      <td>6.51939</td>\n",
       "      <td>6.42781</td>\n",
       "      <td>6.12158</td>\n",
       "      <td>6.12259</td>\n",
       "      <td>5.86741</td>\n",
       "      <td>5.91688</td>\n",
       "      <td>5.90178</td>\n",
       "      <td>5.83291</td>\n",
       "    </tr>\n",
       "  </tbody>\n",
       "</table>\n",
       "<p>5 rows × 56 columns</p>\n",
       "</div>"
      ],
      "text/plain": [
       "  Country Name       1960       1961       1962       1963       1964  \\\n",
       "0        Aruba       NULL       NULL       NULL       NULL       NULL   \n",
       "1  Afghanistan  0.0460567  0.0535888  0.0737208  0.0741607  0.0861736   \n",
       "2       Angola   0.100835  0.0822038   0.210531   0.202737    0.21356   \n",
       "3      Albania    1.25819    1.37419    1.43996    1.18168    1.11174   \n",
       "4      Andorra       NULL       NULL       NULL       NULL       NULL   \n",
       "\n",
       "       1965      1966      1967      1968  ...      2005       2006  \\\n",
       "0      NULL      NULL      NULL      NULL  ...   27.2007    26.9477   \n",
       "1  0.101285  0.107399   0.12341  0.115142  ...  0.051744  0.0624275   \n",
       "2  0.205891  0.268941  0.172102  0.289718  ...  0.985736    1.10502   \n",
       "3    1.1661   1.33306   1.36375   1.51955  ...    1.4125    1.30258   \n",
       "4      NULL      NULL      NULL      NULL  ...   7.29987    6.74605   \n",
       "\n",
       "        2007      2008      2009      2010      2011      2012      2013  \\\n",
       "0     27.895   26.2296   25.9153   24.6705   24.5075   13.1577   8.35356   \n",
       "1  0.0838928  0.151721  0.238399  0.289988  0.406424  0.345149  0.310341   \n",
       "2    1.20313     1.185   1.23443   1.24409   1.25268   1.33022   1.25378   \n",
       "3    1.32233   1.48431    1.4956   1.57857   1.80371   1.69291   1.74921   \n",
       "4    6.51939   6.42781   6.12158   6.12259   5.86741   5.91688   5.90178   \n",
       "\n",
       "       2014  \n",
       "0   8.41006  \n",
       "1  0.293946  \n",
       "2   1.29031  \n",
       "3   1.97876  \n",
       "4   5.83291  \n",
       "\n",
       "[5 rows x 56 columns]"
      ]
     },
     "execution_count": 7,
     "metadata": {},
     "output_type": "execute_result"
    }
   ],
   "source": [
    "# Also drop any special character in the country name\n",
    "df['Country Name'] = df['Country Name'].astype(str).replace('[^a-zA-Z0-9 ]', '', regex=True)\n",
    "df.head()"
   ]
  },
  {
   "cell_type": "code",
   "execution_count": 11,
   "metadata": {},
   "outputs": [
    {
     "name": "stdout",
     "output_type": "stream",
     "text": [
      "All rows were sucecssfully inserted in the emissions table\n"
     ]
    }
   ],
   "source": [
    "# For each country, upload the yearly C02 emissions\n",
    "for i in df.index:\n",
    "    country_name = df['Country Name'][i]\n",
    "    \n",
    "    # Loop through each year\n",
    "    for year in years:\n",
    "        co2 = df[year][i]\n",
    "        # Build the insert query\n",
    "        query = \"\"\"\n",
    "        INSERT into emissions(country_name, year, co2) values('%s',%s,%s);\n",
    "        \"\"\" % (country_name, year, co2)\n",
    "        # Insert into the database\n",
    "        single_insert(conn, query)\n",
    "    \n",
    "print(\"All rows were sucessfully inserted in the emissions table\")"
   ]
  },
  {
   "cell_type": "markdown",
   "metadata": {},
   "source": [
    "Done!"
   ]
  },
  {
   "cell_type": "code",
   "execution_count": 13,
   "metadata": {},
   "outputs": [],
   "source": [
    "conn.close()"
   ]
  },
  {
   "cell_type": "markdown",
   "metadata": {},
   "source": [
    "## 5 - (Optional) Back to the database to see what was inserted"
   ]
  },
  {
   "cell_type": "raw",
   "metadata": {},
   "source": [
    ">> sudo -i -u postgres\n",
    ">> psql\n",
    "\n",
    "postgres=# CREATE DATABASE worldbankdata;\n",
    "postgres=# \\c worldbankdata;\n",
    "postgres=# SELECT * from emissions;"
   ]
  },
  {
   "cell_type": "code",
   "execution_count": null,
   "metadata": {},
   "outputs": [],
   "source": []
  }
 ],
 "metadata": {
  "kernelspec": {
   "display_name": "Python 3",
   "language": "python",
   "name": "python3"
  },
  "language_info": {
   "codemirror_mode": {
    "name": "ipython",
    "version": 3
   },
   "file_extension": ".py",
   "mimetype": "text/x-python",
   "name": "python",
   "nbconvert_exporter": "python",
   "pygments_lexer": "ipython3",
   "version": "3.6.8"
  }
 },
 "nbformat": 4,
 "nbformat_minor": 2
}
